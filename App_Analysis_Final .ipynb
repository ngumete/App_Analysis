{
  "nbformat": 4,
  "nbformat_minor": 0,
  "metadata": {
    "kernelspec": {
      "display_name": "Python 3",
      "language": "python",
      "name": "python3"
    },
    "language_info": {
      "codemirror_mode": {
        "name": "ipython",
        "version": 3
      },
      "file_extension": ".py",
      "mimetype": "text/x-python",
      "name": "python",
      "nbconvert_exporter": "python",
      "pygments_lexer": "ipython3",
      "version": "3.4.3"
    },
    "colab": {
      "name": "App_Analysis_Final",
      "provenance": [],
      "collapsed_sections": []
    }
  },
  "cells": [
    {
      "cell_type": "markdown",
      "metadata": {
        "collapsed": true,
        "id": "Rn_MGi-mwXR0",
        "colab_type": "text"
      },
      "source": [
        "# Google Play and App Store Analysis"
      ]
    },
    {
      "cell_type": "markdown",
      "metadata": {
        "id": "6VA3_CJPwXR4",
        "colab_type": "text"
      },
      "source": [
        "I am an analyst that works with a company that creates android and IOS apps. It is free to download their apps so they make their profit through ads. Meaning this company's profitability is based on the amount of people visit the game.\n",
        "\n",
        "The goal of this project is about finding out which apps attract the most consumers by studying data from Google Play and the App store."
      ]
    },
    {
      "cell_type": "code",
      "metadata": {
        "id": "XRGwaTbDwXR6",
        "colab_type": "code",
        "colab": {}
      },
      "source": [
        "from csv import reader"
      ],
      "execution_count": 0,
      "outputs": []
    },
    {
      "cell_type": "code",
      "metadata": {
        "id": "DEl_QnlowXR9",
        "colab_type": "code",
        "outputId": "a145beb6-c86f-4d76-f2e8-a8ad87ef6033",
        "colab": {
          "base_uri": "https://localhost:8080/",
          "height": 232
        }
      },
      "source": [
        "## The App Store Dataset\n",
        "file = open('AppleStore.csv')\n",
        "file_reader = reader(file)\n",
        "ios = list(file_reader)\n",
        "ios_header = ios[0]\n",
        "ios = ios[1:]\n",
        "\n",
        "\n",
        "## The Google Play Dataset\n",
        "file = open('googleplaystore.csv')\n",
        "file_reader = reader(file)\n",
        "andrd = list(file_reader)\n",
        "andrd_header = andrd[0]\n",
        "andrd = andrd[1:]\n"
      ],
      "execution_count": 0,
      "outputs": [
        {
          "output_type": "error",
          "ename": "FileNotFoundError",
          "evalue": "ignored",
          "traceback": [
            "\u001b[0;31m---------------------------------------------------------------------------\u001b[0m",
            "\u001b[0;31mFileNotFoundError\u001b[0m                         Traceback (most recent call last)",
            "\u001b[0;32m<ipython-input-2-4c598da3faad>\u001b[0m in \u001b[0;36m<module>\u001b[0;34m()\u001b[0m\n\u001b[0;32m----> 1\u001b[0;31m \u001b[0mfile\u001b[0m \u001b[0;34m=\u001b[0m \u001b[0mopen\u001b[0m\u001b[0;34m(\u001b[0m\u001b[0;34m'AppleStore.csv'\u001b[0m\u001b[0;34m)\u001b[0m\u001b[0;34m\u001b[0m\u001b[0;34m\u001b[0m\u001b[0m\n\u001b[0m\u001b[1;32m      2\u001b[0m \u001b[0mfile_reader\u001b[0m \u001b[0;34m=\u001b[0m \u001b[0mreader\u001b[0m\u001b[0;34m(\u001b[0m\u001b[0mfile\u001b[0m\u001b[0;34m)\u001b[0m\u001b[0;34m\u001b[0m\u001b[0;34m\u001b[0m\u001b[0m\n\u001b[1;32m      3\u001b[0m \u001b[0mios\u001b[0m \u001b[0;34m=\u001b[0m \u001b[0mlist\u001b[0m\u001b[0;34m(\u001b[0m\u001b[0mfile_reader\u001b[0m\u001b[0;34m)\u001b[0m\u001b[0;34m\u001b[0m\u001b[0;34m\u001b[0m\u001b[0m\n\u001b[1;32m      4\u001b[0m \u001b[0mios_header\u001b[0m \u001b[0;34m=\u001b[0m \u001b[0mios\u001b[0m\u001b[0;34m[\u001b[0m\u001b[0;36m0\u001b[0m\u001b[0;34m]\u001b[0m\u001b[0;34m\u001b[0m\u001b[0;34m\u001b[0m\u001b[0m\n\u001b[1;32m      5\u001b[0m \u001b[0mios\u001b[0m \u001b[0;34m=\u001b[0m \u001b[0mios\u001b[0m\u001b[0;34m[\u001b[0m\u001b[0;36m1\u001b[0m\u001b[0;34m:\u001b[0m\u001b[0;34m]\u001b[0m\u001b[0;34m\u001b[0m\u001b[0;34m\u001b[0m\u001b[0m\n",
            "\u001b[0;31mFileNotFoundError\u001b[0m: [Errno 2] No such file or directory: 'AppleStore.csv'"
          ]
        }
      ]
    },
    {
      "cell_type": "markdown",
      "metadata": {
        "id": "XlCiN-iFwXSA",
        "colab_type": "text"
      },
      "source": [
        "Now that I have uploaded the dataset into Python, let us find out a little more about them"
      ]
    },
    {
      "cell_type": "code",
      "metadata": {
        "id": "azdTkXZDwXSB",
        "colab_type": "code",
        "colab": {}
      },
      "source": [
        "## Created a function that allows us to breakdown the dataset\n",
        "def explore_data(dataset, start, end, rows_and_columns=False):\n",
        "    dataset_slice = dataset[start:end]    \n",
        "    for row in dataset_slice:\n",
        "        print(row)\n",
        "        print('\\n') # adds a new (empty) line after each row\n",
        "\n",
        "    if rows_and_columns:\n",
        "        print('Number of rows:', len(dataset))\n",
        "        print('Number of columns:', len(dataset[0]))"
      ],
      "execution_count": 0,
      "outputs": []
    },
    {
      "cell_type": "code",
      "metadata": {
        "id": "oJSirExnwXSD",
        "colab_type": "code",
        "outputId": "299d55d9-2610-4410-adb2-ada13df849fd",
        "colab": {}
      },
      "source": [
        "explore_data(ios, 0, 3 , rows_and_columns=True)\n",
        "print('\\n')\n",
        "ios_header"
      ],
      "execution_count": 0,
      "outputs": [
        {
          "output_type": "stream",
          "text": [
            "['284882215', 'Facebook', '389879808', 'USD', '0.0', '2974676', '212', '3.5', '3.5', '95.0', '4+', 'Social Networking', '37', '1', '29', '1']\n",
            "\n",
            "\n",
            "['389801252', 'Instagram', '113954816', 'USD', '0.0', '2161558', '1289', '4.5', '4.0', '10.23', '12+', 'Photo & Video', '37', '0', '29', '1']\n",
            "\n",
            "\n",
            "['529479190', 'Clash of Clans', '116476928', 'USD', '0.0', '2130805', '579', '4.5', '4.5', '9.24.12', '9+', 'Games', '38', '5', '18', '1']\n",
            "\n",
            "\n",
            "Number of rows: 7197\n",
            "Number of columns: 16\n",
            "\n",
            "\n"
          ],
          "name": "stdout"
        },
        {
          "output_type": "execute_result",
          "data": {
            "text/plain": [
              "['id',\n",
              " 'track_name',\n",
              " 'size_bytes',\n",
              " 'currency',\n",
              " 'price',\n",
              " 'rating_count_tot',\n",
              " 'rating_count_ver',\n",
              " 'user_rating',\n",
              " 'user_rating_ver',\n",
              " 'ver',\n",
              " 'cont_rating',\n",
              " 'prime_genre',\n",
              " 'sup_devices.num',\n",
              " 'ipadSc_urls.num',\n",
              " 'lang.num',\n",
              " 'vpp_lic']"
            ]
          },
          "metadata": {
            "tags": []
          },
          "execution_count": 4
        }
      ]
    },
    {
      "cell_type": "markdown",
      "metadata": {
        "id": "m0ilPpGowXSI",
        "colab_type": "text"
      },
      "source": [
        "Here we see that our App Store dataset contains 7197 records and 16 variables. Some variables that will help during our analysis are 'track_name', 'price', 'rating_count_tot', and user_rating."
      ]
    },
    {
      "cell_type": "code",
      "metadata": {
        "id": "cREkpFO0wXSJ",
        "colab_type": "code",
        "outputId": "bfb049fc-2468-40f8-c676-4309b85b0757",
        "colab": {}
      },
      "source": [
        "explore_data(andrd, 0, 3, rows_and_columns=True)\n",
        "print('\\n')\n",
        "andrd_header"
      ],
      "execution_count": 0,
      "outputs": [
        {
          "output_type": "stream",
          "text": [
            "['Photo Editor & Candy Camera & Grid & ScrapBook', 'ART_AND_DESIGN', '4.1', '159', '19M', '10,000+', 'Free', '0', 'Everyone', 'Art & Design', 'January 7, 2018', '1.0.0', '4.0.3 and up']\n",
            "\n",
            "\n",
            "['Coloring book moana', 'ART_AND_DESIGN', '3.9', '967', '14M', '500,000+', 'Free', '0', 'Everyone', 'Art & Design;Pretend Play', 'January 15, 2018', '2.0.0', '4.0.3 and up']\n",
            "\n",
            "\n",
            "['U Launcher Lite – FREE Live Cool Themes, Hide Apps', 'ART_AND_DESIGN', '4.7', '87510', '8.7M', '5,000,000+', 'Free', '0', 'Everyone', 'Art & Design', 'August 1, 2018', '1.2.4', '4.0.3 and up']\n",
            "\n",
            "\n",
            "Number of rows: 10841\n",
            "Number of columns: 13\n",
            "\n",
            "\n"
          ],
          "name": "stdout"
        },
        {
          "output_type": "execute_result",
          "data": {
            "text/plain": [
              "['App',\n",
              " 'Category',\n",
              " 'Rating',\n",
              " 'Reviews',\n",
              " 'Size',\n",
              " 'Installs',\n",
              " 'Type',\n",
              " 'Price',\n",
              " 'Content Rating',\n",
              " 'Genres',\n",
              " 'Last Updated',\n",
              " 'Current Ver',\n",
              " 'Android Ver']"
            ]
          },
          "metadata": {
            "tags": []
          },
          "execution_count": 5
        }
      ]
    },
    {
      "cell_type": "markdown",
      "metadata": {
        "id": "Gq3UebZNwXSM",
        "colab_type": "text"
      },
      "source": [
        "The Google Play dataset has 10841 records and 13 variables. A couple of variables that will be useful during our analysis are 'App', 'Category', 'Rating', and 'Price'."
      ]
    },
    {
      "cell_type": "markdown",
      "metadata": {
        "id": "zgi0oaOAwXSO",
        "colab_type": "text"
      },
      "source": [
        "# Data Clean Up"
      ]
    },
    {
      "cell_type": "markdown",
      "metadata": {
        "id": "lZX3g36nwXSQ",
        "colab_type": "text"
      },
      "source": [
        "Now that we have imported our datasets. Let us clean it up a bit. First, I am going to search for missing records. There is a discussion board online for our Google Play dataset. One of the comments speak about an error that occurs at index 10472."
      ]
    },
    {
      "cell_type": "code",
      "metadata": {
        "id": "3mfUlM8MwXSU",
        "colab_type": "code",
        "outputId": "50a39c2f-d8ae-4b9e-a169-79cd91733db7",
        "colab": {}
      },
      "source": [
        "print(andrd[10472])\n",
        "print(\"\\n\")\n",
        "andrd_header"
      ],
      "execution_count": 0,
      "outputs": [
        {
          "output_type": "stream",
          "text": [
            "['Life Made WI-Fi Touchscreen Photo Frame', '1.9', '19', '3.0M', '1,000+', 'Free', '0', 'Everyone', '', 'February 11, 2018', '1.0.19', '4.0 and up']\n",
            "\n",
            "\n"
          ],
          "name": "stdout"
        },
        {
          "output_type": "execute_result",
          "data": {
            "text/plain": [
              "['App',\n",
              " 'Category',\n",
              " 'Rating',\n",
              " 'Reviews',\n",
              " 'Size',\n",
              " 'Installs',\n",
              " 'Type',\n",
              " 'Price',\n",
              " 'Content Rating',\n",
              " 'Genres',\n",
              " 'Last Updated',\n",
              " 'Current Ver',\n",
              " 'Android Ver']"
            ]
          },
          "metadata": {
            "tags": []
          },
          "execution_count": 6
        }
      ]
    },
    {
      "cell_type": "markdown",
      "metadata": {
        "collapsed": true,
        "id": "nXivXuZDwXSX",
        "colab_type": "text"
      },
      "source": [
        "If you look at the 'Category' variable, you will see it says 1.9 which makes no sense. It seems that this is suppose to be the rating but everything shifted to account for the missing variable. Lets go ahead and delete this record."
      ]
    },
    {
      "cell_type": "code",
      "metadata": {
        "id": "J0Frl9KzwXSZ",
        "colab_type": "code",
        "colab": {}
      },
      "source": [
        "del(andrd[10472])"
      ],
      "execution_count": 0,
      "outputs": []
    },
    {
      "cell_type": "code",
      "metadata": {
        "id": "rYh111xVwXSc",
        "colab_type": "code",
        "outputId": "5e5ea035-4daa-4215-cdde-fe62a6a85b98",
        "colab": {}
      },
      "source": [
        "andrd[10472]"
      ],
      "execution_count": 0,
      "outputs": [
        {
          "output_type": "execute_result",
          "data": {
            "text/plain": [
              "['osmino Wi-Fi: free WiFi',\n",
              " 'TOOLS',\n",
              " '4.2',\n",
              " '134203',\n",
              " '4.1M',\n",
              " '10,000,000+',\n",
              " 'Free',\n",
              " '0',\n",
              " 'Everyone',\n",
              " 'Tools',\n",
              " 'August 7, 2018',\n",
              " '6.06.14',\n",
              " '4.4 and up']"
            ]
          },
          "metadata": {
            "tags": []
          },
          "execution_count": 8
        }
      ]
    },
    {
      "cell_type": "markdown",
      "metadata": {
        "collapsed": false,
        "id": "bWzTTQ8uwXSe",
        "colab_type": "text"
      },
      "source": [
        "# Deleting Duplicates\n",
        "\n",
        "Another comment pointed out that Instagram has a couple of duplicates in this dataset so lets check it out."
      ]
    },
    {
      "cell_type": "code",
      "metadata": {
        "id": "tOs-6t7FwXSf",
        "colab_type": "code",
        "outputId": "9fc9ef60-25d6-4678-e66c-1aa2fece10a4",
        "colab": {}
      },
      "source": [
        "for app in andrd:\n",
        "    name = app[0]\n",
        "    if name == 'Instagram':\n",
        "        print(app)"
      ],
      "execution_count": 0,
      "outputs": [
        {
          "output_type": "stream",
          "text": [
            "['Instagram', 'SOCIAL', '4.5', '66577313', 'Varies with device', '1,000,000,000+', 'Free', '0', 'Teen', 'Social', 'July 31, 2018', 'Varies with device', 'Varies with device']\n",
            "['Instagram', 'SOCIAL', '4.5', '66577446', 'Varies with device', '1,000,000,000+', 'Free', '0', 'Teen', 'Social', 'July 31, 2018', 'Varies with device', 'Varies with device']\n",
            "['Instagram', 'SOCIAL', '4.5', '66577313', 'Varies with device', '1,000,000,000+', 'Free', '0', 'Teen', 'Social', 'July 31, 2018', 'Varies with device', 'Varies with device']\n",
            "['Instagram', 'SOCIAL', '4.5', '66509917', 'Varies with device', '1,000,000,000+', 'Free', '0', 'Teen', 'Social', 'July 31, 2018', 'Varies with device', 'Varies with device']\n"
          ],
          "name": "stdout"
        }
      ]
    },
    {
      "cell_type": "markdown",
      "metadata": {
        "id": "E4bgk1PNwXSh",
        "colab_type": "text"
      },
      "source": [
        "Whoaaa, there are more Instagram duplicates than I thought there would be. Just to be safe lets check the whole dataset for duplicates.\n"
      ]
    },
    {
      "cell_type": "code",
      "metadata": {
        "id": "u4rbtSp8wXSi",
        "colab_type": "code",
        "outputId": "7ba2bc3d-485e-40c2-a861-9bf97103e21f",
        "colab": {}
      },
      "source": [
        "duplicate_apps = []\n",
        "unique_apps = []\n",
        "\n",
        "for app in andrd:\n",
        "    name = app[0]\n",
        "    if name in unique_apps:\n",
        "        duplicate_apps.append(name)\n",
        "    else:\n",
        "        unique_apps.append(name)\n",
        "        \n",
        "print('Number of duplicate apps:', len(duplicate_apps))\n",
        "print('\\n')\n",
        "print('Examples of duplicate apps:', duplicate_apps[:10])"
      ],
      "execution_count": 0,
      "outputs": [
        {
          "output_type": "stream",
          "text": [
            "Number of duplicate apps: 1181\n",
            "\n",
            "\n",
            "Examples of duplicate apps: ['Quick PDF Scanner + OCR FREE', 'Box', 'Google My Business', 'ZOOM Cloud Meetings', 'join.me - Simple Meetings', 'Box', 'Zenefits', 'Google Ads', 'Google My Business', 'Slack']\n"
          ],
          "name": "stdout"
        }
      ]
    },
    {
      "cell_type": "markdown",
      "metadata": {
        "collapsed": true,
        "id": "X8vrsGbUwXSk",
        "colab_type": "text"
      },
      "source": [
        "Looks like we have 1181 duplicates in the Google Play dataset. We're gonna need to remove those before we move forward. We could just randomly choose which duplicate to keep, but i feel there is a more logical approach. If you look at the fourth variable [index 3] for each record,ti shows a count of all the reviews submitted. Which means the higher the count, the newer the entry is. We shall use this criteria to remove all the older duplicates and retain the newest."
      ]
    },
    {
      "cell_type": "code",
      "metadata": {
        "id": "lQKAmCwXwXSl",
        "colab_type": "code",
        "colab": {}
      },
      "source": [
        "reviews_max = {}\n",
        "\n",
        "for app in andrd:\n",
        "    name = app[0]\n",
        "    n_reviews = float(app[3])\n",
        "    \n",
        "    if name in reviews_max and reviews_max[name] < n_reviews:\n",
        "        reviews_max[name] = n_reviews\n",
        "    \n",
        "    elif name not in reviews_max:\n",
        "        reviews_max[name] = n_reviews"
      ],
      "execution_count": 0,
      "outputs": []
    },
    {
      "cell_type": "markdown",
      "metadata": {
        "id": "ERK238i_wXSy",
        "colab_type": "text"
      },
      "source": [
        "What I have done here can be explained in two steps:\n",
        "\n",
        "  1. I created a dictionary with unique names of app and \n",
        "  associated them with their number of reviews.\n",
        "    \n",
        "  2. Then I used a loop to place in the record which has the \n",
        "  highest number of reviews \n",
        "\n",
        "We had 1181 duplicates. If we subtract that from the count of our dataset, we should be able to verify if things went as expected."
      ]
    },
    {
      "cell_type": "code",
      "metadata": {
        "id": "l-JYTnN7wXSz",
        "colab_type": "code",
        "outputId": "6682346c-3e53-4bd0-a9a2-7cfa997ff65a",
        "colab": {}
      },
      "source": [
        "print(len(andrd) - 1181)        \n",
        "print(len(reviews_max))"
      ],
      "execution_count": 0,
      "outputs": [
        {
          "output_type": "stream",
          "text": [
            "9659\n",
            "9659\n"
          ],
          "name": "stdout"
        }
      ]
    },
    {
      "cell_type": "markdown",
      "metadata": {
        "id": "BARjIAjawXS4",
        "colab_type": "text"
      },
      "source": [
        "Now that we have set ourselves up. Let's actually remove the duplicates from the Google Play dataset."
      ]
    },
    {
      "cell_type": "code",
      "metadata": {
        "id": "x1W7_a1YwXS5",
        "colab_type": "code",
        "colab": {}
      },
      "source": [
        "andrd_clean = []\n",
        "already_added = []\n",
        "\n",
        "for app in andrd:\n",
        "    name = app[0]\n",
        "    n_reviews = float(app[3])\n",
        "    if n_reviews == reviews_max[name] and name not in already_added:\n",
        "        andrd_clean.append(app)\n",
        "        already_added.append(name)"
      ],
      "execution_count": 0,
      "outputs": []
    },
    {
      "cell_type": "markdown",
      "metadata": {
        "id": "QUDhpmLdwXS8",
        "colab_type": "text"
      },
      "source": [
        "Using a loop I have created a new dataset free of duplicates! Let's explore this new dataset and verify the length of the dataset to ensure I did everything right."
      ]
    },
    {
      "cell_type": "code",
      "metadata": {
        "id": "chf6Y7K4wXS9",
        "colab_type": "code",
        "outputId": "eed081ba-a044-4809-96df-a57d2abece8c",
        "colab": {}
      },
      "source": [
        "explore_data(andrd_clean, 0, 3, True)\n",
        "print(\"\\n\")\n",
        "print(len(reviews_max))"
      ],
      "execution_count": 0,
      "outputs": [
        {
          "output_type": "stream",
          "text": [
            "['Photo Editor & Candy Camera & Grid & ScrapBook', 'ART_AND_DESIGN', '4.1', '159', '19M', '10,000+', 'Free', '0', 'Everyone', 'Art & Design', 'January 7, 2018', '1.0.0', '4.0.3 and up']\n",
            "\n",
            "\n",
            "['U Launcher Lite – FREE Live Cool Themes, Hide Apps', 'ART_AND_DESIGN', '4.7', '87510', '8.7M', '5,000,000+', 'Free', '0', 'Everyone', 'Art & Design', 'August 1, 2018', '1.2.4', '4.0.3 and up']\n",
            "\n",
            "\n",
            "['Sketch - Draw & Paint', 'ART_AND_DESIGN', '4.5', '215644', '25M', '50,000,000+', 'Free', '0', 'Teen', 'Art & Design', 'June 8, 2018', 'Varies with device', '4.2 and up']\n",
            "\n",
            "\n",
            "Number of rows: 9659\n",
            "Number of columns: 13\n",
            "\n",
            "\n",
            "9659\n"
          ],
          "name": "stdout"
        }
      ]
    },
    {
      "cell_type": "markdown",
      "metadata": {
        "id": "SZqpacnXwXTA",
        "colab_type": "text"
      },
      "source": [
        "# Deleting Non-English Apps"
      ]
    },
    {
      "cell_type": "markdown",
      "metadata": {
        "id": "GiA6E0SuwXTA",
        "colab_type": "text"
      },
      "source": [
        "Some of the apps in our datasets have are from different countries. Here are some examples."
      ]
    },
    {
      "cell_type": "code",
      "metadata": {
        "id": "yFty57rkwXTB",
        "colab_type": "code",
        "outputId": "771d93e3-9348-4114-9c88-b98e839d0281",
        "colab": {}
      },
      "source": [
        "print(ios[813][1])\n",
        "print(ios[6731][1])"
      ],
      "execution_count": 0,
      "outputs": [
        {
          "output_type": "stream",
          "text": [
            "爱奇艺PPS -《欢乐颂2》电视剧热播\n",
            "【脱出ゲーム】絶対に最後までプレイしないで 〜謎解き＆ブロックパズル〜\n"
          ],
          "name": "stdout"
        }
      ]
    },
    {
      "cell_type": "markdown",
      "metadata": {
        "id": "L59qXh4owXTD",
        "colab_type": "text"
      },
      "source": [
        "Our company produces apps for an english speaking market so we would like to analyze data towards an english speaking crowd. To that purpose, I'm going to create a function that can differentiate between English and Non-English text."
      ]
    },
    {
      "cell_type": "code",
      "metadata": {
        "id": "bCvIAFfUwXTE",
        "colab_type": "code",
        "colab": {}
      },
      "source": [
        "def is_english(string):\n",
        "    \n",
        "    for character in string:   \n",
        "        if ord(character ) > 127:\n",
        "            return False\n",
        "    \n",
        "    return True"
      ],
      "execution_count": 0,
      "outputs": []
    },
    {
      "cell_type": "code",
      "metadata": {
        "id": "7t3UGD0GwXTQ",
        "colab_type": "code",
        "outputId": "728cff81-7eec-4910-e845-a8851e2f95a1",
        "colab": {}
      },
      "source": [
        "print(is_english('Instagram'))\n",
        "print(is_english('爱奇艺PPS -《欢乐颂2》电视剧热播'))"
      ],
      "execution_count": 0,
      "outputs": [
        {
          "output_type": "stream",
          "text": [
            "True\n",
            "False\n"
          ],
          "name": "stdout"
        }
      ]
    },
    {
      "cell_type": "markdown",
      "metadata": {
        "collapsed": true,
        "id": "Qzu34bRgwXTT",
        "colab_type": "text"
      },
      "source": [
        "Looks like we've done it but any functions with emojis or special character are actually counted as False."
      ]
    },
    {
      "cell_type": "code",
      "metadata": {
        "id": "9xSRxNHNwXTU",
        "colab_type": "code",
        "outputId": "6e04aae2-2d19-49eb-9cb7-e1ff3f7c5a8e",
        "colab": {}
      },
      "source": [
        "print(is_english('Docs To Go™ Free Office Suite'))\n",
        "print(is_english('Instachat 😜'))"
      ],
      "execution_count": 0,
      "outputs": [
        {
          "output_type": "stream",
          "text": [
            "False\n",
            "False\n"
          ],
          "name": "stdout"
        }
      ]
    },
    {
      "cell_type": "markdown",
      "metadata": {
        "id": "PjW4tMAMwXTW",
        "colab_type": "text"
      },
      "source": [
        "If you use the function I have just created, we could lose valuable data. To minimize the impact of data loss, we will have to create a function that looks for at least 3 non-English characters before removing it from the list."
      ]
    },
    {
      "cell_type": "code",
      "metadata": {
        "id": "nWrIZ0g_wXTW",
        "colab_type": "code",
        "colab": {}
      },
      "source": [
        "def is_english(string):\n",
        "    non_english = 0\n",
        "    \n",
        "    for char in string:\n",
        "        if ord(char) > 127:\n",
        "            non_english += 1\n",
        "    if non_english > 3:\n",
        "        return False\n",
        "    else:\n",
        "        return True"
      ],
      "execution_count": 0,
      "outputs": []
    },
    {
      "cell_type": "code",
      "metadata": {
        "id": "JZnFBlKTwXTc",
        "colab_type": "code",
        "outputId": "91c20fee-3e70-4395-c4f8-13d8577a60ac",
        "colab": {}
      },
      "source": [
        "print(is_english('Docs To Go™ Free Office Suite'))\n",
        "print(is_english('Instachat 😜'))\n",
        "print(is_english('爱奇艺PPS -《欢乐颂2》电视剧热播'))"
      ],
      "execution_count": 0,
      "outputs": [
        {
          "output_type": "stream",
          "text": [
            "True\n",
            "True\n",
            "False\n"
          ],
          "name": "stdout"
        }
      ]
    },
    {
      "cell_type": "markdown",
      "metadata": {
        "id": "1M2d3SBowXTf",
        "colab_type": "text"
      },
      "source": [
        "The edit worked! Now lets use our function to identify and remove all the records we dont want from our datasets."
      ]
    },
    {
      "cell_type": "code",
      "metadata": {
        "id": "398Y2Jt-wXTg",
        "colab_type": "code",
        "outputId": "872ba798-ef1c-477a-f314-887e1496fe51",
        "colab": {}
      },
      "source": [
        "andrd_cleaner = []\n",
        "ios_clean = []\n",
        "\n",
        "for app in andrd_clean:\n",
        "    name = app[0]\n",
        "    \n",
        "    if is_english(name):\n",
        "        andrd_cleaner.append(app)\n",
        "\n",
        "explore_data(andrd_cleaner, 0, 3, True)\n",
        "print('\\n')\n",
        "\n",
        "for app in ios:\n",
        "    name = app[1]\n",
        "    \n",
        "    if is_english(name):\n",
        "        ios_clean.append(app)\n",
        "\n",
        "explore_data(ios_clean, 0, 3, True)"
      ],
      "execution_count": 0,
      "outputs": [
        {
          "output_type": "stream",
          "text": [
            "['Photo Editor & Candy Camera & Grid & ScrapBook', 'ART_AND_DESIGN', '4.1', '159', '19M', '10,000+', 'Free', '0', 'Everyone', 'Art & Design', 'January 7, 2018', '1.0.0', '4.0.3 and up']\n",
            "\n",
            "\n",
            "['U Launcher Lite – FREE Live Cool Themes, Hide Apps', 'ART_AND_DESIGN', '4.7', '87510', '8.7M', '5,000,000+', 'Free', '0', 'Everyone', 'Art & Design', 'August 1, 2018', '1.2.4', '4.0.3 and up']\n",
            "\n",
            "\n",
            "['Sketch - Draw & Paint', 'ART_AND_DESIGN', '4.5', '215644', '25M', '50,000,000+', 'Free', '0', 'Teen', 'Art & Design', 'June 8, 2018', 'Varies with device', '4.2 and up']\n",
            "\n",
            "\n",
            "Number of rows: 9614\n",
            "Number of columns: 13\n",
            "\n",
            "\n",
            "['284882215', 'Facebook', '389879808', 'USD', '0.0', '2974676', '212', '3.5', '3.5', '95.0', '4+', 'Social Networking', '37', '1', '29', '1']\n",
            "\n",
            "\n",
            "['389801252', 'Instagram', '113954816', 'USD', '0.0', '2161558', '1289', '4.5', '4.0', '10.23', '12+', 'Photo & Video', '37', '0', '29', '1']\n",
            "\n",
            "\n",
            "['529479190', 'Clash of Clans', '116476928', 'USD', '0.0', '2130805', '579', '4.5', '4.5', '9.24.12', '9+', 'Games', '38', '5', '18', '1']\n",
            "\n",
            "\n",
            "Number of rows: 6183\n",
            "Number of columns: 16\n"
          ],
          "name": "stdout"
        }
      ]
    },
    {
      "cell_type": "markdown",
      "metadata": {
        "id": "YSd5E9PBwXTj",
        "colab_type": "text"
      },
      "source": [
        "# Removing Non-Free Apps"
      ]
    },
    {
      "cell_type": "markdown",
      "metadata": {
        "id": "RUbvosCwwXTj",
        "colab_type": "text"
      },
      "source": [
        "It seems that we have now reduced our Google Play and App Store dataset to 9614 records and 7197 records, respectively. Feels like a lot but we're almost done cleaning this dataset up. Just to recap, we have removed some inaccurate data, duplicate entries, and now we have removed all non-English apps\n",
        "\n",
        "\n",
        "Now we need to remove all non-free apps from the dataset because we only build apps that are free and our main source of revenue is the in-app ads. Now lets isolate these free apps."
      ]
    },
    {
      "cell_type": "code",
      "metadata": {
        "id": "K1jNSgZQwXTk",
        "colab_type": "code",
        "outputId": "22545f16-1093-4810-db46-ddd828cc15c7",
        "colab": {}
      },
      "source": [
        "andrd_free = []\n",
        "ios_free = []\n",
        "\n",
        "for app in andrd_cleaner:\n",
        "    price = (app[7])\n",
        "    if price == '0':\n",
        "        andrd_free.append(app)\n",
        "        \n",
        "for app in ios_clean:\n",
        "    price = app[4]\n",
        "    if price == '0.0':\n",
        "        ios_free.append(app)\n",
        "        \n",
        "\n",
        "explore_data(andrd_free, 0, 1, True)\n",
        "print('\\n')\n",
        "explore_data(ios_free, 0, 1, True)"
      ],
      "execution_count": 0,
      "outputs": [
        {
          "output_type": "stream",
          "text": [
            "['Photo Editor & Candy Camera & Grid & ScrapBook', 'ART_AND_DESIGN', '4.1', '159', '19M', '10,000+', 'Free', '0', 'Everyone', 'Art & Design', 'January 7, 2018', '1.0.0', '4.0.3 and up']\n",
            "\n",
            "\n",
            "Number of rows: 8864\n",
            "Number of columns: 13\n",
            "\n",
            "\n",
            "['284882215', 'Facebook', '389879808', 'USD', '0.0', '2974676', '212', '3.5', '3.5', '95.0', '4+', 'Social Networking', '37', '1', '29', '1']\n",
            "\n",
            "\n",
            "Number of rows: 3222\n",
            "Number of columns: 16\n"
          ],
          "name": "stdout"
        }
      ]
    },
    {
      "cell_type": "markdown",
      "metadata": {
        "collapsed": true,
        "id": "LCx0Bou5wXTm",
        "colab_type": "text"
      },
      "source": [
        "# Analyzing the Dataset"
      ]
    },
    {
      "cell_type": "markdown",
      "metadata": {
        "id": "DvquNYsswXTn",
        "colab_type": "text"
      },
      "source": [
        "We have finally cleaned the data to the best of our ability. Now its time to look for insights. Let's remember that our company makes its revenue through in-app ads. Our goal is to understand which kinds of apps attract more users because our revenue is influenced by the number of people who use the app.\n",
        "\n",
        "To minimize risks and overhead, our validation strategy for an app idea is comprised of three steps:\n",
        "\n",
        "  1. Build a minimal Android version of the app, and add it to \n",
        "  Google Play.\n",
        "  2. If the app has a good response from users, we develop it further.\n",
        "  3. If the app is profitable after six months, we build an iOS \n",
        "  version of the app and add it to the App Store.\n",
        "    \n",
        "    \n",
        "Since the end goal is to add the app to both Google Play and the App Store, we need to check for app profiles that are successful in both markets. Let's begin to analyze by trying to figure out what the most common genres are. We're going to look at the 'prime_genre' variable in the App Store. And the 'Genre' and 'Category' variable in the Google Play Store."
      ]
    },
    {
      "cell_type": "code",
      "metadata": {
        "id": "9m9H10vywXTo",
        "colab_type": "code",
        "colab": {}
      },
      "source": [
        "\n",
        "\n"
      ],
      "execution_count": 0,
      "outputs": []
    },
    {
      "cell_type": "code",
      "metadata": {
        "id": "4up5O7nnwXTs",
        "colab_type": "code",
        "colab": {}
      },
      "source": [
        "#ios 11\n",
        "#andrd 1 9\n",
        "\n",
        "def freq_table(dataset, index):\n",
        "    freq_table = {}\n",
        "    total = 0\n",
        "    for app in dataset:\n",
        "        total += 1\n",
        "        genre = app[index]\n",
        "        if genre in freq_table:\n",
        "            freq_table[genre] += 1\n",
        "        else:\n",
        "            freq_table[genre] = 1\n",
        "            \n",
        "    freq_percent = {}\n",
        "    for dic in freq_table:\n",
        "        percentage = (freq_table[dic] / total) * 100\n",
        "        freq_percent[dic] = percentage\n",
        "        \n",
        "    return freq_percent\n",
        "        "
      ],
      "execution_count": 0,
      "outputs": []
    },
    {
      "cell_type": "code",
      "metadata": {
        "id": "Pe8C0kX0wXTx",
        "colab_type": "code",
        "colab": {}
      },
      "source": [
        "def display_table(dataset, index):\n",
        "    table = freq_table(dataset, index)\n",
        "    table_display = []\n",
        "    for key in table:\n",
        "        key_val_as_tuple = (table[key], key)\n",
        "        table_display.append(key_val_as_tuple)\n",
        "\n",
        "    table_sorted = sorted(table_display, reverse = True)\n",
        "    for entry in table_sorted:\n",
        "        print(entry[1], ':', entry[0])"
      ],
      "execution_count": 0,
      "outputs": []
    },
    {
      "cell_type": "markdown",
      "metadata": {
        "id": "TX96zLf-wXT5",
        "colab_type": "text"
      },
      "source": [
        "Above I have created two functions:\n",
        "    \n",
        "    1. The fuction returns a frequency table of percentages\n",
        "    2. Reorganizes our results into descending order\n",
        "    \n",
        "Now we can see which genre of app occurs most often!"
      ]
    },
    {
      "cell_type": "code",
      "metadata": {
        "id": "i2QozKhdwXT6",
        "colab_type": "code",
        "outputId": "a35dba0f-9fbc-4c80-f068-c422a78829a6",
        "colab": {}
      },
      "source": [
        "display_table(ios_free, 11)"
      ],
      "execution_count": 0,
      "outputs": [
        {
          "output_type": "stream",
          "text": [
            "Games : 58.16263190564867\n",
            "Entertainment : 7.883302296710118\n",
            "Photo & Video : 4.9658597144630665\n",
            "Education : 3.662321539416512\n",
            "Social Networking : 3.2898820608317814\n",
            "Shopping : 2.60707635009311\n",
            "Utilities : 2.5139664804469275\n",
            "Sports : 2.1415270018621975\n",
            "Music : 2.0484171322160147\n",
            "Health & Fitness : 2.0173805090006205\n",
            "Productivity : 1.7380509000620732\n",
            "Lifestyle : 1.5828677839851024\n",
            "News : 1.3345747982619491\n",
            "Travel : 1.2414649286157666\n",
            "Finance : 1.1173184357541899\n",
            "Weather : 0.8690254500310366\n",
            "Food & Drink : 0.8069522036002483\n",
            "Reference : 0.5586592178770949\n",
            "Business : 0.5276225946617008\n",
            "Book : 0.4345127250155183\n",
            "Navigation : 0.186219739292365\n",
            "Medical : 0.186219739292365\n",
            "Catalogs : 0.12414649286157665\n"
          ],
          "name": "stdout"
        }
      ]
    },
    {
      "cell_type": "markdown",
      "metadata": {
        "collapsed": true,
        "id": "5uaFQKSPwXT8",
        "colab_type": "text"
      },
      "source": [
        "With 58% of all free-English apps in its category, Gaming seems to the most common genre in our App Store dataset. Entertainment is in second place with 7.9%. It seems that most apps are designed for entertainment purposes. Now let's look at the Google Play dataset by examining both variables, Genres and Category."
      ]
    },
    {
      "cell_type": "code",
      "metadata": {
        "id": "GmSCTi9ywXT9",
        "colab_type": "code",
        "outputId": "967a083a-9c5b-435e-9352-df7b9bc8d6a3",
        "colab": {}
      },
      "source": [
        "display_table(andrd_free, 1) # Category"
      ],
      "execution_count": 0,
      "outputs": [
        {
          "output_type": "stream",
          "text": [
            "FAMILY : 18.907942238267147\n",
            "GAME : 9.724729241877256\n",
            "TOOLS : 8.461191335740072\n",
            "BUSINESS : 4.591606498194946\n",
            "LIFESTYLE : 3.9034296028880866\n",
            "PRODUCTIVITY : 3.892148014440433\n",
            "FINANCE : 3.7003610108303246\n",
            "MEDICAL : 3.531137184115524\n",
            "SPORTS : 3.395758122743682\n",
            "PERSONALIZATION : 3.3167870036101084\n",
            "COMMUNICATION : 3.2378158844765346\n",
            "HEALTH_AND_FITNESS : 3.0798736462093865\n",
            "PHOTOGRAPHY : 2.944494584837545\n",
            "NEWS_AND_MAGAZINES : 2.7978339350180503\n",
            "SOCIAL : 2.6624548736462095\n",
            "TRAVEL_AND_LOCAL : 2.33528880866426\n",
            "SHOPPING : 2.2450361010830324\n",
            "BOOKS_AND_REFERENCE : 2.1435018050541514\n",
            "DATING : 1.861462093862816\n",
            "VIDEO_PLAYERS : 1.7937725631768955\n",
            "MAPS_AND_NAVIGATION : 1.3989169675090252\n",
            "FOOD_AND_DRINK : 1.2409747292418771\n",
            "EDUCATION : 1.1620036101083033\n",
            "ENTERTAINMENT : 0.9589350180505415\n",
            "LIBRARIES_AND_DEMO : 0.9363718411552346\n",
            "AUTO_AND_VEHICLES : 0.9250902527075812\n",
            "HOUSE_AND_HOME : 0.8235559566787004\n",
            "WEATHER : 0.8009927797833934\n",
            "EVENTS : 0.7107400722021661\n",
            "PARENTING : 0.6543321299638989\n",
            "ART_AND_DESIGN : 0.6430505415162455\n",
            "COMICS : 0.6204873646209386\n",
            "BEAUTY : 0.5979241877256317\n"
          ],
          "name": "stdout"
        }
      ]
    },
    {
      "cell_type": "markdown",
      "metadata": {
        "id": "EXgSHgWVwXT_",
        "colab_type": "text"
      },
      "source": [
        "At first glance, you can tell that these apps are more taillored towards productivity rather than entertainment like our last dataset. These free-English apps mostly consist of 19% Family-based apps. Close runner up is Gaming apps with almost 10%. It is safe to say that some of those family apps are also be games."
      ]
    },
    {
      "cell_type": "code",
      "metadata": {
        "scrolled": true,
        "id": "DrDvsoEkwXUA",
        "colab_type": "code",
        "outputId": "af88ae39-1594-49e0-be62-6682ba110732",
        "colab": {}
      },
      "source": [
        "display_table(andrd_free, 9)"
      ],
      "execution_count": 0,
      "outputs": [
        {
          "output_type": "stream",
          "text": [
            "Tools : 8.449909747292418\n",
            "Entertainment : 6.069494584837545\n",
            "Education : 5.347472924187725\n",
            "Business : 4.591606498194946\n",
            "Productivity : 3.892148014440433\n",
            "Lifestyle : 3.892148014440433\n",
            "Finance : 3.7003610108303246\n",
            "Medical : 3.531137184115524\n",
            "Sports : 3.463447653429603\n",
            "Personalization : 3.3167870036101084\n",
            "Communication : 3.2378158844765346\n",
            "Action : 3.1024368231046933\n",
            "Health & Fitness : 3.0798736462093865\n",
            "Photography : 2.944494584837545\n",
            "News & Magazines : 2.7978339350180503\n",
            "Social : 2.6624548736462095\n",
            "Travel & Local : 2.3240072202166067\n",
            "Shopping : 2.2450361010830324\n",
            "Books & Reference : 2.1435018050541514\n",
            "Simulation : 2.0419675090252705\n",
            "Dating : 1.861462093862816\n",
            "Arcade : 1.8501805054151623\n",
            "Video Players & Editors : 1.7712093862815883\n",
            "Casual : 1.7599277978339352\n",
            "Maps & Navigation : 1.3989169675090252\n",
            "Food & Drink : 1.2409747292418771\n",
            "Puzzle : 1.128158844765343\n",
            "Racing : 0.9927797833935018\n",
            "Role Playing : 0.9363718411552346\n",
            "Libraries & Demo : 0.9363718411552346\n",
            "Auto & Vehicles : 0.9250902527075812\n",
            "Strategy : 0.9138086642599278\n",
            "House & Home : 0.8235559566787004\n",
            "Weather : 0.8009927797833934\n",
            "Events : 0.7107400722021661\n",
            "Adventure : 0.6768953068592057\n",
            "Comics : 0.6092057761732852\n",
            "Beauty : 0.5979241877256317\n",
            "Art & Design : 0.5979241877256317\n",
            "Parenting : 0.4963898916967509\n",
            "Card : 0.45126353790613716\n",
            "Casino : 0.42870036101083037\n",
            "Trivia : 0.41741877256317694\n",
            "Educational;Education : 0.39485559566787\n",
            "Board : 0.3835740072202166\n",
            "Educational : 0.3722924187725632\n",
            "Education;Education : 0.33844765342960287\n",
            "Word : 0.2594765342960289\n",
            "Casual;Pretend Play : 0.236913357400722\n",
            "Music : 0.2030685920577617\n",
            "Racing;Action & Adventure : 0.16922382671480143\n",
            "Puzzle;Brain Games : 0.16922382671480143\n",
            "Entertainment;Music & Video : 0.16922382671480143\n",
            "Casual;Brain Games : 0.13537906137184114\n",
            "Casual;Action & Adventure : 0.13537906137184114\n",
            "Arcade;Action & Adventure : 0.12409747292418773\n",
            "Action;Action & Adventure : 0.10153429602888085\n",
            "Educational;Pretend Play : 0.09025270758122744\n",
            "Simulation;Action & Adventure : 0.078971119133574\n",
            "Parenting;Education : 0.078971119133574\n",
            "Entertainment;Brain Games : 0.078971119133574\n",
            "Board;Brain Games : 0.078971119133574\n",
            "Parenting;Music & Video : 0.06768953068592057\n",
            "Educational;Brain Games : 0.06768953068592057\n",
            "Casual;Creativity : 0.06768953068592057\n",
            "Art & Design;Creativity : 0.06768953068592057\n",
            "Education;Pretend Play : 0.056407942238267145\n",
            "Role Playing;Pretend Play : 0.04512635379061372\n",
            "Education;Creativity : 0.04512635379061372\n",
            "Role Playing;Action & Adventure : 0.033844765342960284\n",
            "Puzzle;Action & Adventure : 0.033844765342960284\n",
            "Entertainment;Creativity : 0.033844765342960284\n",
            "Entertainment;Action & Adventure : 0.033844765342960284\n",
            "Educational;Creativity : 0.033844765342960284\n",
            "Educational;Action & Adventure : 0.033844765342960284\n",
            "Education;Music & Video : 0.033844765342960284\n",
            "Education;Brain Games : 0.033844765342960284\n",
            "Education;Action & Adventure : 0.033844765342960284\n",
            "Adventure;Action & Adventure : 0.033844765342960284\n",
            "Video Players & Editors;Music & Video : 0.02256317689530686\n",
            "Sports;Action & Adventure : 0.02256317689530686\n",
            "Simulation;Pretend Play : 0.02256317689530686\n",
            "Puzzle;Creativity : 0.02256317689530686\n",
            "Music;Music & Video : 0.02256317689530686\n",
            "Entertainment;Pretend Play : 0.02256317689530686\n",
            "Casual;Education : 0.02256317689530686\n",
            "Board;Action & Adventure : 0.02256317689530686\n",
            "Video Players & Editors;Creativity : 0.01128158844765343\n",
            "Trivia;Education : 0.01128158844765343\n",
            "Travel & Local;Action & Adventure : 0.01128158844765343\n",
            "Tools;Education : 0.01128158844765343\n",
            "Strategy;Education : 0.01128158844765343\n",
            "Strategy;Creativity : 0.01128158844765343\n",
            "Strategy;Action & Adventure : 0.01128158844765343\n",
            "Simulation;Education : 0.01128158844765343\n",
            "Role Playing;Brain Games : 0.01128158844765343\n",
            "Racing;Pretend Play : 0.01128158844765343\n",
            "Puzzle;Education : 0.01128158844765343\n",
            "Parenting;Brain Games : 0.01128158844765343\n",
            "Music & Audio;Music & Video : 0.01128158844765343\n",
            "Lifestyle;Pretend Play : 0.01128158844765343\n",
            "Lifestyle;Education : 0.01128158844765343\n",
            "Health & Fitness;Education : 0.01128158844765343\n",
            "Health & Fitness;Action & Adventure : 0.01128158844765343\n",
            "Entertainment;Education : 0.01128158844765343\n",
            "Communication;Creativity : 0.01128158844765343\n",
            "Comics;Creativity : 0.01128158844765343\n",
            "Casual;Music & Video : 0.01128158844765343\n",
            "Card;Action & Adventure : 0.01128158844765343\n",
            "Books & Reference;Education : 0.01128158844765343\n",
            "Art & Design;Pretend Play : 0.01128158844765343\n",
            "Art & Design;Action & Adventure : 0.01128158844765343\n",
            "Arcade;Pretend Play : 0.01128158844765343\n",
            "Adventure;Education : 0.01128158844765343\n"
          ],
          "name": "stdout"
        }
      ]
    },
    {
      "cell_type": "markdown",
      "metadata": {
        "collapsed": true,
        "id": "EDI8UMKqwXUC",
        "colab_type": "text"
      },
      "source": [
        "The genre section is the same as the Category section in regards to that the apps are still tailored towards productivity. These frequency tables give us an understanding, but not enough understanding to pull any genuine insights. So we need to take this a little further by analyzing apps are the most popular. "
      ]
    },
    {
      "cell_type": "markdown",
      "metadata": {
        "id": "YUm_rQkpwXUD",
        "colab_type": "text"
      },
      "source": [
        "# Most Popular Apps by Genre"
      ]
    },
    {
      "cell_type": "markdown",
      "metadata": {
        "id": "P_ps2AznwXUE",
        "colab_type": "text"
      },
      "source": [
        "We can find this information in the Installs column, but this information is missing for the App Store data set. As a workaround, we'll take the total number of user ratings as a proxy, which we can find in the rating_count_tot app. What we will be doing is calculating which genre has the most downloads. For the App Store, we'll go by which has the most ratings. Let's start by calculating the average number of user ratings per genre on the App Store."
      ]
    },
    {
      "cell_type": "code",
      "metadata": {
        "id": "ynK2AsX-wXUE",
        "colab_type": "code",
        "outputId": "3eba2c7e-5aed-4977-c5e2-64374ac93214",
        "colab": {}
      },
      "source": [
        "table = freq_table(ios_free, 11)\n",
        "for genre in table:\n",
        "    total = 0\n",
        "    len_genre = 0\n",
        "    for app in ios_free:\n",
        "        genre_app = app[11]\n",
        "        if genre_app == genre:\n",
        "            tot_user_ratings = float(app[5]) \n",
        "            total += tot_user_ratings\n",
        "            len_genre += 1\n",
        "    avg_user_rating = total / len_genre\n",
        "    print(\"{} : {}\".format(int(avg_user_rating), genre))\n",
        "            \n"
      ],
      "execution_count": 0,
      "outputs": [
        {
          "output_type": "stream",
          "text": [
            "18684 : Utilities\n",
            "21028 : Productivity\n",
            "33333 : Food & Drink\n",
            "14029 : Entertainment\n",
            "4004 : Catalogs\n",
            "26919 : Shopping\n",
            "28441 : Photo & Video\n",
            "57326 : Music\n",
            "23298 : Health & Fitness\n",
            "23008 : Sports\n",
            "22788 : Games\n",
            "74942 : Reference\n",
            "31467 : Finance\n",
            "7003 : Education\n",
            "21248 : News\n",
            "7491 : Business\n",
            "28243 : Travel\n",
            "39758 : Book\n",
            "86090 : Navigation\n",
            "52279 : Weather\n",
            "71548 : Social Networking\n",
            "16485 : Lifestyle\n",
            "612 : Medical\n"
          ],
          "name": "stdout"
        }
      ]
    },
    {
      "cell_type": "markdown",
      "metadata": {
        "collapsed": false,
        "id": "hjclPPN6wXUH",
        "colab_type": "text"
      },
      "source": [
        "Navigation, Social Networking, and Reference apps have the most user ratings among free-English apps. Based on my analysis here, I would recommend creating a Navigation app. However, Google and Waze have amazing products that pretty much corner the market, so a Navigation app is not the best route for us. Same with Social Networking, Facebook, Instagram, and Twitter have a large piece of the market. We can still make supplemental apps that help increase user experience on social media. Let's analyze our Google Play dataset before making any concrete decision though. Remember we need the app to be successful in both markets.\n"
      ]
    },
    {
      "cell_type": "code",
      "metadata": {
        "id": "xlPSNHXewXUH",
        "colab_type": "code",
        "outputId": "af824677-d720-4be2-a341-a6d19228848c",
        "colab": {}
      },
      "source": [
        "table= freq_table(andrd_free, 1)\n",
        "for category in table:\n",
        "    total = 0\n",
        "    len_category = 0\n",
        "    \n",
        "    for app in andrd_free:\n",
        "        category_app = app[1]\n",
        "        if category_app == category:\n",
        "            installs = app[5]\n",
        "            installs = installs.replace('+', '')\n",
        "            installs = int(installs.replace(',', '') )\n",
        "            total += installs\n",
        "            len_category += 1\n",
        "            \n",
        "    avg_user_rating = total / len_category\n",
        "    print(int(avg_user_rating), ':', category )"
      ],
      "execution_count": 0,
      "outputs": [
        {
          "output_type": "stream",
          "text": [
            "513151 : BEAUTY\n",
            "120550 : MEDICAL\n",
            "3638640 : SPORTS\n",
            "15588015 : GAME\n",
            "3695641 : FAMILY\n",
            "1331540 : HOUSE_AND_HOME\n",
            "5201482 : PERSONALIZATION\n",
            "1924897 : FOOD_AND_DRINK\n",
            "1986335 : ART_AND_DESIGN\n",
            "11640705 : ENTERTAINMENT\n",
            "10801391 : TOOLS\n",
            "13984077 : TRAVEL_AND_LOCAL\n",
            "4188821 : HEALTH_AND_FITNESS\n",
            "17840110 : PHOTOGRAPHY\n",
            "38456119 : COMMUNICATION\n",
            "253542 : EVENTS\n",
            "16787331 : PRODUCTIVITY\n",
            "24727872 : VIDEO_PLAYERS\n",
            "8767811 : BOOKS_AND_REFERENCE\n",
            "1833495 : EDUCATION\n",
            "638503 : LIBRARIES_AND_DEMO\n",
            "4056941 : MAPS_AND_NAVIGATION\n",
            "854028 : DATING\n",
            "817657 : COMICS\n",
            "542603 : PARENTING\n",
            "1712290 : BUSINESS\n",
            "7036877 : SHOPPING\n",
            "1387692 : FINANCE\n",
            "23253652 : SOCIAL\n",
            "1437816 : LIFESTYLE\n",
            "5074486 : WEATHER\n",
            "9549178 : NEWS_AND_MAGAZINES\n",
            "647317 : AUTO_AND_VEHICLES\n"
          ],
          "name": "stdout"
        }
      ]
    },
    {
      "cell_type": "markdown",
      "metadata": {
        "id": "2mpigljYwXUL",
        "colab_type": "text"
      },
      "source": [
        "Video Players, Social, and Communication apps have the most downloads of all free-English apps in the Google Play dataset. Some differences here but also some similarities. The Navigation category is not on top like in our App Store dataset. This might be due to the fact that Google Maps come by default with android phones. Communication apps lead the Google Play with most average installs per app. Let's find out why real quick."
      ]
    },
    {
      "cell_type": "code",
      "metadata": {
        "id": "MqX0_rAAwXUM",
        "colab_type": "code",
        "outputId": "54745034-2934-463c-b38a-29cf674bd295",
        "colab": {}
      },
      "source": [
        "for app in andrd_free:\n",
        "    if app[1] == 'COMMUNICATION':\n",
        "        print(app[0], ':', app[5])"
      ],
      "execution_count": 0,
      "outputs": [
        {
          "output_type": "stream",
          "text": [
            "WhatsApp Messenger : 1,000,000,000+\n",
            "Messenger for SMS : 10,000,000+\n",
            "My Tele2 : 5,000,000+\n",
            "imo beta free calls and text : 100,000,000+\n",
            "Contacts : 50,000,000+\n",
            "Call Free – Free Call : 5,000,000+\n",
            "Web Browser & Explorer : 5,000,000+\n",
            "Browser 4G : 10,000,000+\n",
            "MegaFon Dashboard : 10,000,000+\n",
            "ZenUI Dialer & Contacts : 10,000,000+\n",
            "Cricket Visual Voicemail : 10,000,000+\n",
            "TracFone My Account : 1,000,000+\n",
            "Xperia Link™ : 10,000,000+\n",
            "TouchPal Keyboard - Fun Emoji & Android Keyboard : 10,000,000+\n",
            "Skype Lite - Free Video Call & Chat : 5,000,000+\n",
            "My magenta : 1,000,000+\n",
            "Android Messages : 100,000,000+\n",
            "Google Duo - High Quality Video Calls : 500,000,000+\n",
            "Seznam.cz : 1,000,000+\n",
            "Antillean Gold Telegram (original version) : 100,000+\n",
            "AT&T Visual Voicemail : 10,000,000+\n",
            "GMX Mail : 10,000,000+\n",
            "Omlet Chat : 10,000,000+\n",
            "My Vodacom SA : 5,000,000+\n",
            "Microsoft Edge : 5,000,000+\n",
            "Messenger – Text and Video Chat for Free : 1,000,000,000+\n",
            "imo free video calls and chat : 500,000,000+\n",
            "Calls & Text by Mo+ : 5,000,000+\n",
            "free video calls and chat : 50,000,000+\n",
            "Skype - free IM & video calls : 1,000,000,000+\n",
            "Who : 100,000,000+\n",
            "GO SMS Pro - Messenger, Free Themes, Emoji : 100,000,000+\n",
            "Messaging+ SMS, MMS Free : 1,000,000+\n",
            "chomp SMS : 10,000,000+\n",
            "Glide - Video Chat Messenger : 10,000,000+\n",
            "Text SMS : 10,000,000+\n",
            "Talkray - Free Calls & Texts : 10,000,000+\n",
            "LINE: Free Calls & Messages : 500,000,000+\n",
            "GroupMe : 10,000,000+\n",
            "mysms SMS Text Messaging Sync : 1,000,000+\n",
            "2ndLine - Second Phone Number : 1,000,000+\n",
            "Google Chrome: Fast & Secure : 1,000,000,000+\n",
            "Firefox Browser fast & private : 100,000,000+\n",
            "Ninesky Browser : 1,000,000+\n",
            "Dolphin Browser - Fast, Private & Adblock🐬 : 50,000,000+\n",
            "UC Browser - Fast Download Private & Secure : 500,000,000+\n",
            "Ghostery Privacy Browser : 1,000,000+\n",
            "InBrowser - Incognito Browsing : 1,000,000+\n",
            "Lightning Web Browser : 500,000+\n",
            "Web Browser : 500,000+\n",
            "Contacts+ : 10,000,000+\n",
            "ExDialer - Dialer & Contacts : 10,000,000+\n",
            "PHONE for Google Voice & GTalk : 1,000,000+\n",
            "Safest Call Blocker : 1,000,000+\n",
            "Full Screen Caller ID : 5,000,000+\n",
            "Hiya - Caller ID & Block : 10,000,000+\n",
            "Mr. Number-Block calls & spam : 10,000,000+\n",
            "Should I Answer? : 1,000,000+\n",
            "RocketDial Dialer & Contacts : 1,000,000+\n",
            "CIA - Caller ID & Call Blocker : 5,000,000+\n",
            "Calls Blacklist - Call Blocker : 10,000,000+\n",
            "Call Control - Call Blocker : 5,000,000+\n",
            "True Contact - Real Caller ID : 1,000,000+\n",
            "Video Caller Id : 1,000,000+\n",
            "Sync.ME – Caller ID & Block : 5,000,000+\n",
            "Burner - Free Phone Number : 1,000,000+\n",
            "Caller ID + : 1,000,000+\n",
            "Gmail : 1,000,000,000+\n",
            "K-9 Mail : 5,000,000+\n",
            "myMail – Email for Hotmail, Gmail and Outlook Mail : 10,000,000+\n",
            "Email TypeApp - Mail App : 1,000,000+\n",
            "All Email Providers : 1,000,000+\n",
            "Newton Mail - Email App for Gmail, Outlook, IMAP : 1,000,000+\n",
            "GO Notifier : 10,000,000+\n",
            "Mail.Ru - Email App : 50,000,000+\n",
            "Mail1Click - Secure Mail : 10,000+\n",
            "Daum Mail - Next Mail : 5,000,000+\n",
            "mail.com mail : 1,000,000+\n",
            "SolMail - All-in-One email app : 500,000+\n",
            "Hangouts : 1,000,000,000+\n",
            "Vonage Mobile® Call Video Text : 1,000,000+\n",
            "JusTalk - Free Video Calls and Fun Video Chat : 5,000,000+\n",
            "Azar : 50,000,000+\n",
            "LokLok: Draw on a Lock Screen : 500,000+\n",
            "Discord - Chat for Gamers : 10,000,000+\n",
            "Messenger Lite: Free Calls & Messages : 100,000,000+\n",
            "AntennaPict β : 1,000,000+\n",
            "Talkatone: Free Texts, Calls & Phone Number : 10,000,000+\n",
            "Kik : 100,000,000+\n",
            "K-@ Mail - Email App : 100,000+\n",
            "KakaoTalk: Free Calls & Text : 100,000,000+\n",
            "K-9 Material (unofficial) : 5,000+\n",
            "M star Dialer : 100,000+\n",
            "Free WiFi Connect : 10,000,000+\n",
            "m:go BiH : 10,000+\n",
            "N-Com Wizard : 50,000+\n",
            "Opera Mini - fast web browser : 100,000,000+\n",
            "Opera Browser: Fast and Secure : 100,000,000+\n",
            "Opera Mini browser beta : 10,000,000+\n",
            "Psiphon Pro - The Internet Freedom VPN : 10,000,000+\n",
            "ICQ — Video Calls & Chat Messenger : 10,000,000+\n",
            "Telegram : 100,000,000+\n",
            "AT&T Messages for Tablet : 1,000,000+\n",
            "T-Mobile DIGITS : 100,000+\n",
            "Truecaller: Caller ID, SMS spam blocking & Dialer : 100,000,000+\n",
            "Portable Wi-Fi hotspot : 10,000,000+\n",
            "AT&T Call Protect : 5,000,000+\n",
            "U - Webinars, Meetings & Messenger : 500,000+\n",
            "UC Browser Mini -Tiny Fast Private & Secure : 100,000,000+\n",
            "/u/app : 10,000+\n",
            "[verify-U] VideoIdent : 10,000+\n",
            "Viber Messenger : 500,000,000+\n",
            "WeChat : 100,000,000+\n",
            "WhatsApp Business : 10,000,000+\n",
            "WhatsCall Free Global Phone Call App & Cheap Calls : 10,000,000+\n",
            "X Browser : 50,000+\n",
            "Yahoo Mail – Stay Organized : 100,000,000+\n",
            "Free Adblocker Browser - Adblock & Popup Blocker : 10,000,000+\n",
            "Adblock Browser for Android : 10,000,000+\n",
            "CM Browser - Ad Blocker , Fast Download , Privacy : 50,000,000+\n",
            "Adblock Plus for Samsung Internet - Browse safe. : 1,000,000+\n",
            "Ad Blocker Turbo - Adblocker Browser : 10,000+\n",
            "Brave Browser: Fast AdBlocker : 5,000,000+\n",
            "AG Contacts, Lite edition : 5,000+\n",
            "Oklahoma Ag Co-op Council : 10+\n",
            "Bee'ah Employee App : 100+\n",
            "tournaments and more.aj.2 : 100+\n",
            "Aj.Petra : 100+\n",
            "AK Phone : 5,000+\n",
            "PlacarTv Futebol Ao Vivo : 100,000+\n",
            "WiFi Access Point (hotspot) : 100,000+\n",
            "Access Point Names : 10,000+\n",
            "Puffin Web Browser : 10,000,000+\n",
            "ClanHQ : 10,000+\n",
            "Ear Agent: Super Hearing : 5,000,000+\n",
            "Google Voice : 10,000,000+\n",
            "Google Allo : 10,000,000+\n",
            "AU Call Blocker - Block Unwanted Calls Texts 2018 : 1,000+\n",
            "Baby Monitor AV : 100,000+\n",
            "AV Phone : 1,000+\n",
            "AW - free video calls and chat : 1,000,000+\n",
            "Katalogen.ax : 100+\n",
            "AZ Browser. Private & Download : 100,000+\n",
            "BA SALES : 1+\n",
            "BD Data Plan (3G & 4G) : 500,000+\n",
            "BD Internet Packages (Updated) : 50,000+\n",
            "BD Dialer : 10,000+\n",
            "BD Live Call : 5,000+\n",
            "Best Browser BD social networking : 10+\n",
            "Traffic signs BD : 500+\n",
            "BF Browser by Betfilter - Stop Gambling Today! : 10,000+\n",
            "My BF App : 50,000+\n",
            "BH Mail : 1,000+\n",
            "Zalo – Video Call : 50,000,000+\n",
            "BJ - Confidential : 10+\n",
            "BK Chat : 1,000+\n",
            "Of the wall Arapaho bk : 5+\n",
            "AC-BL : 50+\n",
            "BBM - Free Calls & Messages : 100,000,000+\n",
            "DMR BrandMeister Tool : 10,000+\n",
            "BBMoji - Your personalized BBM Stickers : 1,000,000+\n",
            "BN MALLORCA Radio : 1,000+\n",
            "BQ Partners : 1,000+\n",
            "BS-Mobile : 50+\n",
            "ATC Unico BS : 500+\n",
            "BT One Voice mobile access : 5,000+\n",
            "BT Messenger : 50,000+\n",
            "BT One Phone Mobile App : 10,000+\n",
            "SW-100.tch by Callstel : 1,000,000+\n",
            "BT MeetMe with Dolby Voice : 100,000+\n",
            "Bluetooth Auto Connect : 5,000,000+\n",
            "AudioBT: BT audio GPS/SMS/Text : 50,000+\n",
            "BV : 100+\n",
            "Feel Performer : 10,000+\n",
            "Tiny Call Confirm : 1,000,000+\n",
            "CB Radio Chat - for friends! : 1,000,000+\n",
            "CB On Mobile : 100,000+\n",
            "Virtual Walkie Talkie : 1,000,000+\n",
            "Channel 19 : 100,000+\n",
            "Cb browser : 50+\n",
            "CF Chat: Connecting Friends : 100+\n",
            "retteMi.ch : 5,000+\n",
            "Chrome Dev : 5,000,000+\n",
            "CJ Browser - Fast & Private : 100+\n",
            "CJ DVD Rentals : 100+\n",
            "CK Call NEW : 10+\n",
            "CM Transfer - Share any files with friends nearby : 5,000,000+\n",
            "mail.co.uk Mail : 5,000+\n",
            "ClanPlay: Community and Tools for Gamers : 1,000,000+\n",
            "CQ-Mobile : 1,000+\n",
            "CQ-Alert : 500+\n",
            "QRZ Assistant : 100,000+\n",
            "Pocket Prefix Plus : 10,000+\n",
            "Ham Radio Prefixes : 10,000+\n",
            "CS Customizer : 1,000+\n",
            "CS Browser | #1 & BEST BROWSER : 1,000+\n",
            "CS Browser Beta : 5,000+\n",
            "My Vodafone (GR) : 1,000,000+\n",
            "IZ2UUF Morse Koch CW : 50,000+\n",
            "C W Browser : 100+\n",
            "CW Bluetooth SPP : 100+\n",
            "CW BLE Peripheral Simulator : 500+\n",
            "Morse Code Reader : 100,000+\n",
            "Learn Morse Code - G0HYN Learn Morse : 5,000+\n",
            "Ring : 10,000+\n",
            "Hyundai CX Conference : 50+\n",
            "Cy Messenger : 100+\n",
            "Amadeus GR & CY : 100+\n",
            "Hlášenírozhlasu.cz : 10+\n",
            "SMS Sender - sluzba.cz : 1,000+\n",
            "WEB.DE Mail : 10,000,000+\n",
            "Your Freedom VPN Client : 5,000,000+\n",
            "CallApp: Caller ID, Blocker & Phone Call Recorder : 10,000,000+\n",
            "Rádio Sol Nascente DF : 500+\n",
            "DG Card : 100+\n",
            "Whoscall - Caller ID & Block : 10,000,000+\n",
            "DK Browser : 10+\n",
            "cluster.dk : 1,000+\n",
            "DK TEL Dialer : 50+\n",
            "DM for WhatsApp : 5,000+\n",
            "DM Talk New : 5,000+\n",
            "DM - The Offical Messaging App : 10+\n",
            "DM Tracker : 1,000+\n",
            "Call Blocker & Blacklist : 1,000+\n",
            "ReadyOp DT : 1,000+\n",
            "DU Browser—Browse fast & fun : 10,000,000+\n",
            "Caller ID & Call Block - DU Caller : 5,000,000+\n",
            "BlueDV AMBE : 1,000+\n",
            "DW Contacts & Phone & Dialer : 1,000,000+\n",
            "Deaf World DW : 10,000+\n",
            "Ham DX Cluster & Spots Finder : 5,000+\n",
            "Mircules DX Cluster Lite : 5,000+\n",
            "3G DZ Configuration : 50,000+\n",
            "chat dz : 100+\n",
            "love sms good morning : 5,000+\n",
            "Goodbox - Mega App : 100,000+\n",
            "Call Blocker - Blacklist, SMS Blocker : 1,000,000+\n",
            "[EF]ShoutBox : 100+\n",
            "Eg Call : 10,000+\n",
            "ei : 10+\n",
            "EJ messenger : 10+\n",
            "Ek IRA : 10+\n",
            "Orfox: Tor Browser for Android : 10,000,000+\n",
            "EO Mumbai : 10+\n",
            "EP RSS Reader : 100+\n",
            "Voxer Walkie Talkie Messenger : 10,000,000+\n",
            "ES-1 : 500+\n",
            "Hangouts Dialer - Call Phones : 10,000,000+\n",
            "EU Council : 1,000+\n",
            "Council Voting Calculator : 5,000+\n",
            "Have your say on Europe : 500+\n",
            "Programi podrške EU : 100+\n",
            "Inbox.eu : 10,000+\n",
            "Web Browser for Android : 1,000,000+\n",
            "Everbridge : 100,000+\n",
            "Best Auto Call Recorder Free : 500+\n",
            "EZ Wifi Notification : 10,000+\n",
            "Test Server SMS FA : 5+\n",
            "Lite for Facebook Messenger : 1,000,000+\n",
            "FC Browser - Focus Privacy Browser : 1,000+\n",
            "EHiN-FH conferenceapp : 100+\n",
            "Carpooling FH Hagenberg : 100+\n",
            "Wi-Fi Auto-connect : 1,000,000+\n",
            "Talkie - Wi-Fi Calling, Chats, File Sharing : 500,000+\n",
            "WeFi - Free Fast WiFi Connect & Find Wi-Fi Map : 1,000,000+\n",
            "Sat-Fi : 5,000+\n",
            "Portable Wi-Fi hotspot Free : 100,000+\n",
            "TownWiFi | Wi-Fi Everywhere : 500,000+\n",
            "Jazz Wi-Fi : 10,000+\n",
            "Sat-Fi Voice : 1,000+\n",
            "Free Wi-fi HotspoT : 50,000+\n",
            "FN Web Radio : 10+\n",
            "FNH Payment Info : 10+\n",
            "MARKET FO : 100+\n",
            "FO OP St-Nazaire : 100+\n",
            "FO SODEXO : 100+\n",
            "FO RCBT : 100+\n",
            "FO Interim : 100+\n",
            "FO PSA Sept-Fons : 100+\n",
            "FO AIRBUS TLSE : 1,000+\n",
            "FO STELIA Méaulte : 100+\n",
            "FO AIRBUS Nantes : 100+\n",
            "Firefox Focus: The privacy browser : 1,000,000+\n",
            "FP Connect : 100+\n",
            "FreedomPop Messaging Phone/SIM : 500,000+\n",
            "FP Live : 10+\n",
            "HipChat - beta version : 50,000+\n"
          ],
          "name": "stdout"
        }
      ]
    },
    {
      "cell_type": "markdown",
      "metadata": {
        "id": "izvzqb5QwXUO",
        "colab_type": "text"
      },
      "source": [
        "Facebook Messenger, Whatsapp, and Skype all have over a billion downloads which inflate the averages around it. We can actually see this same pattern for the Video Players Category "
      ]
    },
    {
      "cell_type": "code",
      "metadata": {
        "id": "BqfG_BtBwXUP",
        "colab_type": "code",
        "outputId": "d8fabab4-d047-4035-af96-6be00ad35d70",
        "colab": {}
      },
      "source": [
        "for app in andrd_free:\n",
        "    if app[1] == 'VIDEO_PLAYERS' and app[5] == '1,000,000,000+':\n",
        "        print(app[0], ':', app[5])\n",
        "    "
      ],
      "execution_count": 0,
      "outputs": [
        {
          "output_type": "stream",
          "text": [
            "YouTube : 1,000,000,000+\n",
            "Google Play Movies & TV : 1,000,000,000+\n"
          ],
          "name": "stdout"
        }
      ]
    },
    {
      "cell_type": "markdown",
      "metadata": {
        "collapsed": true,
        "id": "2tQ9GVNUwXUT",
        "colab_type": "text"
      },
      "source": [
        "Both the Google Play and App Store dataset have high numbers in regards to user interaction with Social Media. Like I stated previously, I believe a supplemental app that helps increase user experience on social media is a great option. For example, we can create an app that shows a user how they were feeling on a certain day. We would need to acquire the user's archive and use sentiment analysis to show the user their past, well, sentiments. There are many supplemental apps that are successful with over 1 million downloads such as Friendly for Facebook, TwitCasting Live, and EZ Video Download for Facebook."
      ]
    },
    {
      "cell_type": "code",
      "metadata": {
        "id": "bTH60cyqwXUU",
        "colab_type": "code",
        "outputId": "66c74794-3aa7-4cbd-d2be-44946ab316e8",
        "colab": {}
      },
      "source": [
        "for app in andrd_free:\n",
        "    if app[1] == 'SOCIAL' and app[5] == '1,000,000+':\n",
        "        print(app[0], ':', app[5])"
      ],
      "execution_count": 0,
      "outputs": [
        {
          "output_type": "stream",
          "text": [
            "The Messenger App : 1,000,000+\n",
            "Messenger Pro : 1,000,000+\n",
            "Free Messages, Video, Chat,Text for Messenger Plus : 1,000,000+\n",
            "Jodel - The Hyperlocal App : 1,000,000+\n",
            "Love Sticker : 1,000,000+\n",
            "Love Images : 1,000,000+\n",
            "Facebook Local : 1,000,000+\n",
            "MobilePatrol Public Safety App : 1,000,000+\n",
            "💘 WhatsLov: Smileys of love, stickers and GIF : 1,000,000+\n",
            "Family GPS tracker KidControl + GPS by SMS Locator : 1,000,000+\n",
            "Moment : 1,000,000+\n",
            "TwitCasting Live : 1,000,000+\n",
            "Banjo : 1,000,000+\n",
            "Frontback - Social Photos : 1,000,000+\n",
            "Couple - Relationship App : 1,000,000+\n",
            "B-Messenger Video Chat : 1,000,000+\n",
            "FollowMeter for Instagram : 1,000,000+\n",
            "pixiv : 1,000,000+\n",
            "U LIVE – Video Chat & Stream : 1,000,000+\n",
            "VMate Lite - Funny Short Videos Social Network : 1,000,000+\n",
            "GUYZ - Gay Chat & Gay Dating : 1,000,000+\n",
            "Snaappy – 3D fun AR core communication platform : 1,000,000+\n",
            "Lesbian Chat & Dating - SPICY : 1,000,000+\n",
            "BOO! - Next Generation Messenger : 1,000,000+\n",
            "Wishbone - Compare Anything : 1,000,000+\n",
            "Fiesta by Tango - Find, Meet and Make New Friends : 1,000,000+\n",
            "+Download 4 Instagram Twitter : 1,000,000+\n",
            "EZ Video Download for Facebook : 1,000,000+\n",
            "All Social Networks : 1,000,000+\n",
            "Facebook Creator : 1,000,000+\n",
            "Friendly for Facebook : 1,000,000+\n",
            "Faster for Facebook Lite : 1,000,000+\n",
            "Stickers for Facebook : 1,000,000+\n"
          ],
          "name": "stdout"
        }
      ]
    },
    {
      "cell_type": "markdown",
      "metadata": {
        "collapsed": true,
        "id": "F7PcmetKwXUZ",
        "colab_type": "text"
      },
      "source": [
        "# Conclusion"
      ]
    },
    {
      "cell_type": "markdown",
      "metadata": {
        "id": "W_dawTt9wXUZ",
        "colab_type": "text"
      },
      "source": [
        "Wow, what a journey right! \n",
        "\n",
        "We successfully cleaned our data by removing inaccuracies and duplicates. Along with removing non-English and non-free apps.\n",
        "\n",
        "Then we started our analysis which brought us some useful insights. We found that creating an app that would support an existing social media platform could be a large success. \n",
        "\n",
        "There have been many companies who have been successful in this field which makes our probability of success greater."
      ]
    }
  ]
}